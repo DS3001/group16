{
  "nbformat": 4,
  "nbformat_minor": 0,
  "metadata": {
    "colab": {
      "provenance": [],
      "authorship_tag": "ABX9TyOAEg7LVkZjkEoBl3XXTF9v"
    },
    "kernelspec": {
      "name": "python3",
      "display_name": "Python 3"
    },
    "language_info": {
      "name": "python"
    }
  },
  "cells": [
    {
      "cell_type": "code",
      "execution_count": 1,
      "metadata": {
        "colab": {
          "base_uri": "https://localhost:8080/"
        },
        "id": "55NXRuqWYMql",
        "outputId": "c59363a3-662c-4a00-95ee-750be0736479"
      },
      "outputs": [
        {
          "output_type": "stream",
          "name": "stdout",
          "text": [
            "Cloning into 'group16'...\n",
            "warning: redirecting to https://github.com/DS3001/group16.git/\n",
            "remote: Enumerating objects: 87, done.\u001b[K\n",
            "remote: Counting objects: 100% (87/87), done.\u001b[K\n",
            "remote: Compressing objects: 100% (76/76), done.\u001b[K\n",
            "remote: Total 87 (delta 36), reused 31 (delta 10), pack-reused 0\u001b[K\n",
            "Receiving objects: 100% (87/87), 3.78 MiB | 11.67 MiB/s, done.\n",
            "Resolving deltas: 100% (36/36), done.\n"
          ]
        }
      ],
      "source": [
        "# Get data and dependencies\n",
        "\n",
        "! git clone https://www.github.com/DS3001/group16\n",
        "import pandas as pd\n",
        "import numpy as np\n",
        "import matplotlib.pyplot as plt\n",
        "import seaborn as sns\n",
        "from sklearn import tree\n",
        "from sklearn.metrics import mean_squared_error\n",
        "from sklearn.metrics import r2_score"
      ]
    },
    {
      "cell_type": "code",
      "source": [
        "# Create Training and Testing DataFrames\n",
        "\n",
        "train = pd.read_csv('/content/group16/project_2/cleaned_data/c_train.csv')\n",
        "test = pd.read_csv('/content/group16/project_2/cleaned_data/c_test.csv')\n",
        "\n",
        "columns = train.columns\n",
        "all_metrics = columns[1:-1]\n",
        "no_poly = columns[1:23]\n",
        "no_poly\n",
        "\n",
        "# Create y values, and X values in with all metrics taken into account\n",
        "\n",
        "X_train = train[all_metrics]\n",
        "y_train = train['stroke']\n",
        "X_test = test[all_metrics]\n",
        "y_test = test['stroke']\n",
        "\n",
        "# Create X values for only original metrics, not metrics from polynomial expansion\n",
        "\n",
        "X_train_np = train[no_poly]\n",
        "X_test_np = test[no_poly]\n",
        "\n",
        "columns\n",
        "cat2 = columns[7:23].to_list()\n",
        "cat = columns[2:4].to_list()\n",
        "categories = cat + cat2\n",
        "\n",
        "# Create X values for only categorical data, not linear data\n",
        "\n",
        "X_train_cat = train[categories]\n",
        "X_test_cat = test[categories]\n"
      ],
      "metadata": {
        "id": "Yk6u3cmBYllS"
      },
      "execution_count": 2,
      "outputs": []
    },
    {
      "cell_type": "code",
      "source": [
        "# Create and test trees of different max depths for the whole data\n",
        "\n",
        "all_r2 = []\n",
        "all_rmse = []\n",
        "\n",
        "for i in range(1,100):\n",
        "  model = tree.DecisionTreeClassifier(max_depth=i)\n",
        "  cart = model.fit(X_train, y_train)\n",
        "\n",
        "  prediction = cart.predict(X_test)\n",
        "  r2 = r2_score(y_test,prediction)\n",
        "  RMSE = np.sqrt(mean_squared_error(y_test,prediction))\n",
        "  all_r2.append(r2)\n",
        "  all_rmse.append(RMSE)\n",
        "\n",
        "print('Highest r2 value: ' + str(max(all_r2)))\n",
        "print('Depth: ' + str(all_r2.index(max(all_r2)) + 1))\n",
        "print('Lowest RMSE value: ' + str(min(all_rmse)))\n",
        "print('Depth: ' + str(all_rmse.index(min(all_rmse)) + 1))"
      ],
      "metadata": {
        "colab": {
          "base_uri": "https://localhost:8080/"
        },
        "id": "QtbFLz7hY2jb",
        "outputId": "ab7dad30-a492-471a-b531-aed5a2a90930"
      },
      "execution_count": 18,
      "outputs": [
        {
          "output_type": "stream",
          "name": "stdout",
          "text": [
            "Highest r2 value: -0.05138746145940387\n",
            "Depth: 1\n",
            "Lowest RMSE value: 0.22107884414269094\n",
            "Depth: 1\n"
          ]
        }
      ]
    },
    {
      "cell_type": "code",
      "source": [
        "# Create and test trees of different max depths without the polynomials\n",
        "\n",
        "poly_r2 = []\n",
        "poly_rmse = []\n",
        "\n",
        "for i in range(1,20):\n",
        "  model = tree.DecisionTreeClassifier(max_depth=i)\n",
        "  cart = model.fit(X_train_np, y_train)\n",
        "\n",
        "  prediction = cart.predict(X_test_np)\n",
        "  r2 = r2_score(y_test,prediction)\n",
        "  RMSE = np.sqrt(mean_squared_error(y_test,prediction))\n",
        "  poly_r2.append(r2)\n",
        "  poly_rmse.append(RMSE)\n",
        "\n",
        "print('Highest r2 value: ' + str(max(poly_r2)))\n",
        "print('Depth: ' + str(poly_r2.index(max(poly_r2)) + 1))\n",
        "print('Lowest RMSE value: ' + str(min(poly_rmse)))\n",
        "print('Depth: ' + str(poly_rmse.index(min(poly_rmse)) + 1))"
      ],
      "metadata": {
        "colab": {
          "base_uri": "https://localhost:8080/"
        },
        "id": "owBQiN2EMJH1",
        "outputId": "12599004-1147-482f-bc9a-80d14c2630d7"
      },
      "execution_count": 19,
      "outputs": [
        {
          "output_type": "stream",
          "name": "stdout",
          "text": [
            "Highest r2 value: -0.05138746145940387\n",
            "Depth: 1\n",
            "Lowest RMSE value: 0.22107884414269094\n",
            "Depth: 1\n"
          ]
        }
      ]
    },
    {
      "cell_type": "code",
      "source": [
        "# Create and test trees of different max depths for only categorical data\n",
        "\n",
        "cat_r2 = []\n",
        "cat_rmse = []\n",
        "\n",
        "for i in range(1,100):\n",
        "  model = tree.DecisionTreeClassifier(max_depth=i)\n",
        "  cart = model.fit(X_train_cat, y_train)\n",
        "\n",
        "  prediction = cart.predict(X_test_cat)\n",
        "  r2 = r2_score(y_test,prediction)\n",
        "  RMSE = np.sqrt(mean_squared_error(y_test,prediction))\n",
        "  cat_r2.append(r2)\n",
        "  cat_rmse.append(RMSE)\n",
        "\n",
        "print('Highest r2 value: ' + str(max(cat_r2)))\n",
        "print('Depth: ' + str(cat_r2.index(max(cat_r2)) + 1))\n",
        "print('Lowest RMSE value: ' + str(min(cat_rmse)))\n",
        "print('Depth: ' + str(cat_rmse.index(min(cat_rmse)) + 1))"
      ],
      "metadata": {
        "colab": {
          "base_uri": "https://localhost:8080/"
        },
        "id": "z3nYJWRdaiy0",
        "outputId": "290fecce-d17a-4b50-a9ba-611e13c33158"
      },
      "execution_count": 20,
      "outputs": [
        {
          "output_type": "stream",
          "name": "stdout",
          "text": [
            "Highest r2 value: -0.03035971223021572\n",
            "Depth: 4\n",
            "Lowest RMSE value: 0.21885688981825285\n",
            "Depth: 4\n"
          ]
        }
      ]
    }
  ]
}