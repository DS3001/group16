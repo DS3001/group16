{
 "cells": [
  {
   "cell_type": "markdown",
   "metadata": {},
   "source": [
    "Examining the data through building Linear Models"
   ]
  },
  {
   "cell_type": "markdown",
   "metadata": {},
   "source": [
    "Loading in data and seperating it"
   ]
  },
  {
   "cell_type": "code",
   "execution_count": 24,
   "metadata": {},
   "outputs": [
    {
     "name": "stdout",
     "output_type": "stream",
     "text": [
      "(1023, 39)\n",
      "(4087, 39)\n",
      "(1023, 38)\n",
      "(4087, 38)\n",
      "(1023, 38)\n",
      "(4087, 38)\n"
     ]
    }
   ],
   "source": [
    "#loading packages\n",
    "import numpy as np\n",
    "import pandas as pd\n",
    "import matplotlib.pyplot as plt\n",
    "import seaborn as sns\n",
    "\n",
    "#loading the cleaned data from the data cleaning file, Project2EDA.ipynb\n",
    "test = pd.read_csv('./cleaned_data/c_test.csv')\n",
    "train = pd.read_csv('./cleaned_data/c_train.csv')\n",
    "\n",
    "#loading data to get unporcessed numerics\n",
    "df_train = pd.read_csv('./data/training_data.csv')\n",
    "df_test = pd.read_csv('./data/testing_data.csv')\n",
    "\n",
    "# Dropping row number and 'id' columns\n",
    "x_test_r = df_test.drop(columns=['Unnamed: 0','id'])\n",
    "x_train_r = df_train.drop(columns=['Unnamed: 0','id'])\n",
    "\n",
    "# Renaming residence_type to make capitalization uniform\n",
    "x_test_r = x_test_r.rename(columns={'Residence_type':'residence_type'})\n",
    "x_train_r = x_train_r.rename(columns={'Residence_type':'residence_type'})\n",
    "\n",
    "# Dropping NaNs, all of which occur in bmi\n",
    "x_train_r['bmi'] = x_train_r['bmi'].fillna(x_train_r['bmi'].mean())\n",
    "x_test_r['bmi'] = x_test_r['bmi'].fillna(x_test_r['bmi'].mean())\n",
    "\n",
    "Xtrain_num_r = x_train_r.loc[:,['age','hypertension','heart_disease','bmi','avg_glucose_level'] ]\n",
    "Xtest_num_r = x_test_r.loc[:,['age','hypertension','heart_disease','bmi','avg_glucose_level'] ]\n",
    "\n",
    "print(test.shape)\n",
    "print(train.shape)\n",
    "\n",
    "# Dropping row number\n",
    "test = test.drop(columns=['Unnamed: 0'])\n",
    "train = train.drop(columns=['Unnamed: 0'])\n",
    "\n",
    "print(test.shape)\n",
    "print(train.shape)\n",
    "\n",
    "print(test.shape)\n",
    "print(train.shape)\n",
    "\n",
    "#seperate into X and y\n",
    "ytest = test['stroke']\n",
    "ytrain = train['stroke']\n",
    "Xtest = test.drop(columns='stroke')\n",
    "Xtrain = train.drop(columns='stroke')"
   ]
  },
  {
   "cell_type": "code",
   "execution_count": 25,
   "metadata": {},
   "outputs": [],
   "source": [
    "#establish some column groups\n",
    "poly = ['age^2', 'age hypertension', 'age heart_disease', 'age avg_glucose_level', 'age bmi', 'hypertension^2','hypertension heart_disease', 'hypertension avg_glucose_level','hypertension bmi', 'heart_disease^2','heart_disease avg_glucose_level', 'heart_disease bmi','avg_glucose_level^2', 'avg_glucose_level bmi', 'bmi^2']\n",
    "numerics = ['age','hypertension','heart_disease','avg_glucose_level', 'bmi']\n",
    "cats = ['gender_Female', 'gender_Male', 'ever_married_No', 'ever_married_Yes', 'work_type_Govt_job', 'work_type_Never_worked', 'work_type_Private', 'work_type_Self-employed', 'work_type_children', 'residence_type_Rural', 'residence_type_Urban','smoking_status_Unknown', 'smoking_status_formerly smoked','smoking_status_never smoked', 'smoking_status_smokes']"
   ]
  },
  {
   "cell_type": "code",
   "execution_count": 26,
   "metadata": {},
   "outputs": [
    {
     "name": "stdout",
     "output_type": "stream",
     "text": [
      "(1023, 5)\n",
      "(4087, 5)\n",
      "1023\n",
      "4087\n"
     ]
    }
   ],
   "source": [
    "print(Xtest_num_r.shape)\n",
    "print(Xtrain_num_r.shape)\n",
    "\n",
    "print(len(ytest))\n",
    "print(len(ytrain))"
   ]
  },
  {
   "cell_type": "markdown",
   "metadata": {},
   "source": [
    "Dateframe key\n",
    "\n",
    "Scaled and Expanded:\n",
    "- Xtest\n",
    "- Xtrain\n",
    "\n",
    "Unscaled Numerics\n",
    "- Xtest_num_r\n",
    "- Xtrain_num_r\n",
    "\n",
    "Stroke Var\n",
    "- ytest\n",
    "- ytrain"
   ]
  },
  {
   "cell_type": "markdown",
   "metadata": {},
   "source": [
    "Begin looking at Linear model for high correlation variables and combinations of them (excerpt from EDA document)\n",
    "1. age - correlates most strongly with stroke\n",
    "2. hypertension - decent correlation with stroke, though also correlates with age and could be redundant because of this\n",
    "3. heart disease - decent correlation with stroke, but only a small proportion of the dataset have heart disease\n",
    "4. glucose / log glucose - correlates somewhat with stroke, it is continuous numeric, so could have more say in classification, and the performance of the model with or without log scaled glucose could be interesting\n",
    "5. ever married - the two answers to this question have opposite correlations, which could make it a powerful predictor.\n",
    "6. work type - particulary in self-employed, or stay at home cases, there is correlation\n",
    "7. smoking status - those who have smoked or do smoke have positive correlation with stroke"
   ]
  },
  {
   "cell_type": "markdown",
   "metadata": {},
   "source": [
    "Note that for smoking status, it was made a binary value, where it was true if the subject was a current or former smoker\n",
    "\n",
    "Below are the reusable functions made for linear regression"
   ]
  },
  {
   "cell_type": "code",
   "execution_count": 27,
   "metadata": {},
   "outputs": [
    {
     "name": "stdout",
     "output_type": "stream",
     "text": [
      "R2:  0.06755094279891583\n",
      "RMSE:  0.20819885927632586\n",
      "<matplotlib.collections.PathCollection object at 0x7f01eb9bad70> \n",
      "\n",
      "R2:  0.024465387766799962\n",
      "RMSE:  0.21295465118959514\n",
      "<matplotlib.collections.PathCollection object at 0x7f01eb908fd0> \n",
      "\n",
      "R2:  0.06686427646456372\n",
      "RMSE:  0.2082755051993214\n",
      "<matplotlib.collections.PathCollection object at 0x7f01ec4a6e90> \n",
      "\n",
      "R2:  0.07451874494651445\n",
      "RMSE:  0.20741950907055437\n",
      "<matplotlib.collections.PathCollection object at 0x7f01ebfa7e80> \n",
      "\n",
      "R2:  0.06038951880139787\n",
      "RMSE:  0.2089968376913247\n",
      "<matplotlib.collections.PathCollection object at 0x7f01ec051b40> \n",
      "\n"
     ]
    },
    {
     "data": {
      "image/png": "[encoded data removed]",
      "text/plain": [
       "<Figure size 640x480 with 1 Axes>"
      ]
     },
     "metadata": {},
     "output_type": "display_data"
    }
   ],
   "source": [
    "#create function to make models\n",
    "from sklearn.linear_model import LinearRegression # Import linear regression model\n",
    "\n",
    "def linear_reg_model(X_train, y_train, X_test, y_test):\n",
    "    N_test = len(y_test)\n",
    "    reg = LinearRegression().fit(X_train, y_train)\n",
    "    r2 = reg.score(X_test, y_test)\n",
    "    y_hat = reg.predict(X_test)\n",
    "    residuals = y_test - y_hat\n",
    "    #SSE = np.sum(np.square(y_hat - y_test))\n",
    "    SSE = np.sum(np.square(y_test - y_hat))\n",
    "    RMSE = (SSE/N_test)**(1/2)\n",
    "    return r2, y_hat, residuals, SSE, RMSE\n",
    "    \n",
    "def showResults(r2, RMSE, y_hat, y_test):\n",
    "    print(\"R2: \", r2)\n",
    "    print(\"RMSE: \", RMSE)\n",
    "    print(plt.scatter(y_hat, y_test), \"\\n\")\n",
    "\n",
    "#base line without a strategy\n",
    "train_age = Xtrain['age']\n",
    "test_age = Xtest['age']\n",
    "r2, yhat, residuals, SSE, RMSE = linear_reg_model(train_age.values.reshape(-1,1), ytrain, test_age.values.reshape(-1,1), ytest)\n",
    "showResults(r2, RMSE, yhat, ytest)\n",
    "\n",
    "r2, yhat, residuals, SSE, RMSE = linear_reg_model(Xtrain[cats], ytrain, Xtest[cats], ytest)\n",
    "showResults(r2, RMSE, yhat, ytest)\n",
    "\n",
    "r2, yhat, residuals, SSE, RMSE = linear_reg_model(Xtrain[numerics], ytrain, Xtest[numerics], ytest)\n",
    "showResults(r2, RMSE, yhat, ytest)\n",
    "\n",
    "r2, yhat, residuals, SSE, RMSE = linear_reg_model(Xtrain_num_r, ytrain, Xtest_num_r, ytest)\n",
    "showResults(r2, RMSE, yhat, ytest)\n",
    "\n",
    "r2, yhat, residuals, SSE, RMSE = linear_reg_model(Xtrain, ytrain, Xtest, ytest)\n",
    "showResults(r2, RMSE, yhat, ytest)"
   ]
  },
  {
   "cell_type": "markdown",
   "metadata": {},
   "source": [
    "Strategy Number One\n",
    "\n",
    "Use linear regression to look at different combinations of variables of interest."
   ]
  },
  {
   "cell_type": "code",
   "execution_count": 28,
   "metadata": {},
   "outputs": [],
   "source": [
    "#making smoked var\n",
    "Xtest['smoked'] = Xtest['smoking_status_formerly smoked'] + Xtest['smoking_status_smokes']\n",
    "Xtrain['smoked'] = Xtrain['smoking_status_formerly smoked'] + Xtrain['smoking_status_smokes']\n",
    "\n",
    "poly_strat1 = ['age^2', 'age hypertension', 'age heart_disease', 'age avg_glucose_level', 'hypertension^2','hypertension heart_disease', 'hypertension avg_glucose_level', 'heart_disease^2','heart_disease avg_glucose_level', 'avg_glucose_level^2']\n",
    "numerics_strat1 = ['age','hypertension','heart_disease','avg_glucose_level']\n",
    "cats_strat1 = ['ever_married_Yes', 'work_type_Self-employed', 'work_type_children', 'smoked']\n",
    "num_poly_strat1 =  ['age','hypertension','heart_disease','avg_glucose_level', 'age^2', 'age hypertension', 'age heart_disease', 'age avg_glucose_level', 'hypertension^2','hypertension heart_disease', 'hypertension avg_glucose_level', 'heart_disease^2','heart_disease avg_glucose_level', 'avg_glucose_level^2']\n",
    "interactions_strat1 = ['age hypertension', 'age heart_disease', 'age avg_glucose_level', 'hypertension heart_disease', 'hypertension avg_glucose_level', 'heart_disease avg_glucose_level']\n",
    "num_cat = ['age','hypertension','heart_disease','avg_glucose_level', 'ever_married_Yes', 'work_type_Self-employed', 'work_type_children', 'smoked']"
   ]
  },
  {
   "cell_type": "code",
   "execution_count": 38,
   "metadata": {},
   "outputs": [
    {
     "name": "stdout",
     "output_type": "stream",
     "text": [
      "Scaled Numerics\n",
      "R2:  0.07243881347223613\n",
      "RMSE:  0.2076524561140286\n",
      "<matplotlib.collections.PathCollection object at 0x7f01eb8bef80> \n",
      "\n",
      "Unscaled Numerics\n",
      "R2:  0.07254683364611081\n",
      "RMSE:  0.20764036456264337\n",
      "<matplotlib.collections.PathCollection object at 0x7f01eb8bc8b0> \n",
      "\n",
      "Scaled Numerics and Polynomials\n",
      "R2:  0.08710860447867941\n",
      "RMSE:  0.20600385400832194\n",
      "<matplotlib.collections.PathCollection object at 0x7f01ec0fb4c0> \n",
      "\n",
      "Unscaled Numerics and Polynomials\n",
      "R2:  0.08704793497696872\n",
      "RMSE:  0.20601069926044552\n",
      "<matplotlib.collections.PathCollection object at 0x7f01ec0fb190> \n",
      "\n",
      "Categoricals\n",
      "R2:  0.021831399382570837\n",
      "RMSE:  0.21324195107283636\n",
      "<matplotlib.collections.PathCollection object at 0x7f01ebaa2920> \n",
      "\n"
     ]
    },
    {
     "data": {
      "image/png": "[encoded data removed]",
      "text/plain": [
       "<Figure size 640x480 with 1 Axes>"
      ]
     },
     "metadata": {},
     "output_type": "display_data"
    }
   ],
   "source": [
    "#testing with both scaled and non-scaled vars\n",
    "\n",
    "#look at just the selected numerics\n",
    "r2, yhat, residuals, SSE, RMSE = linear_reg_model(Xtrain[numerics_strat1], ytrain, Xtest[numerics_strat1], ytest)\n",
    "print(\"Scaled Numerics\")\n",
    "showResults(r2, RMSE, yhat, ytest)\n",
    "\n",
    "r2, yhat, residuals, SSE, RMSE = linear_reg_model(Xtrain_num_r[numerics_strat1], ytrain, Xtest_num_r[numerics_strat1], ytest)\n",
    "print(\"Unscaled Numerics\")\n",
    "showResults(r2, RMSE, yhat, ytest)\n",
    "\n",
    "#look at both numerics and poly\n",
    "r2, yhat, residuals, SSE, RMSE = linear_reg_model(Xtrain[num_poly_strat1], ytrain, Xtest[num_poly_strat1], ytest)\n",
    "print(\"Scaled Numerics and Polynomials\")\n",
    "showResults(r2, RMSE, yhat, ytest)\n",
    "one = \"Linear Regression with Scaled Numerics and Polynomials\"\n",
    "r2_1 = r2\n",
    "RMSE_1 = RMSE\n",
    "\n",
    "Xtest_r_num_poly = pd.concat([Xtest_num_r[numerics_strat1].reset_index(drop=True), Xtest[poly_strat1].reset_index(drop=True)],axis=1)\n",
    "Xtrain_r_num_poly = pd.concat([Xtrain_num_r[numerics_strat1].reset_index(drop=True), Xtrain[poly_strat1].reset_index(drop=True)],axis=1)\n",
    "r2, yhat, residuals, SSE, RMSE = linear_reg_model(Xtrain_r_num_poly, ytrain, Xtest_r_num_poly, ytest)\n",
    "print(\"Unscaled Numerics and Polynomials\")\n",
    "showResults(r2, RMSE, yhat, ytest)\n",
    "two = \"Linear Regression with Unscaled Numerics and Polynomials\"\n",
    "r2_2 = r2\n",
    "RMSE_2 = RMSE\n",
    "\n",
    "\n",
    "#look at cats\n",
    "r2, yhat, residuals, SSE, RMSE = linear_reg_model(Xtrain[cats_strat1], ytrain, Xtest[cats_strat1], ytest)\n",
    "print(\"Categoricals\")\n",
    "showResults(r2, RMSE, yhat, ytest)"
   ]
  },
  {
   "cell_type": "code",
   "execution_count": 39,
   "metadata": {},
   "outputs": [
    {
     "name": "stdout",
     "output_type": "stream",
     "text": [
      "Polynomials\n",
      "R2:  0.0824058334276061\n",
      "RMSE:  0.20653378806575326\n",
      "<matplotlib.collections.PathCollection object at 0x7f01eb79eaa0> \n",
      "\n",
      "Polynomials - Just interaction variables\n",
      "R2:  0.06618430899533989\n",
      "RMSE:  0.20835137560841235\n",
      "<matplotlib.collections.PathCollection object at 0x7f01ec0e6b30> \n",
      "\n",
      "Scaled Numerics and Categoricals\n",
      "R2:  0.07973185177702835\n",
      "RMSE:  0.2068345015080263\n",
      "<matplotlib.collections.PathCollection object at 0x7f01eb7859c0> \n",
      "\n",
      "Unscaled Numerics and Categoricals\n",
      "R2:  0.07981283664654826\n",
      "RMSE:  0.20682540044673162\n",
      "<matplotlib.collections.PathCollection object at 0x7f01ec15a6e0> \n",
      "\n"
     ]
    },
    {
     "data": {
      "image/png": "[encoded data removed]",
      "text/plain": [
       "<Figure size 640x480 with 1 Axes>"
      ]
     },
     "metadata": {},
     "output_type": "display_data"
    }
   ],
   "source": [
    "#Look at poly\n",
    "r2, yhat, residuals, SSE, RMSE = linear_reg_model(Xtrain[poly_strat1], ytrain, Xtest[poly_strat1], ytest)\n",
    "print(\"Polynomials\")\n",
    "showResults(r2, RMSE, yhat, ytest)\n",
    "three = \"Linear Regression with Polynomials\"\n",
    "r2_3 = r2\n",
    "RMSE_3 = RMSE\n",
    "\n",
    "#just interaction vars\n",
    "r2, yhat, residuals, SSE, RMSE = linear_reg_model(Xtrain[interactions_strat1], ytrain, Xtest[interactions_strat1], ytest)\n",
    "print(\"Polynomials - Just interaction variables\")\n",
    "showResults(r2, RMSE, yhat, ytest)\n",
    "\n",
    "#cats and numerics\n",
    "r2, yhat, residuals, SSE, RMSE = linear_reg_model(Xtrain[num_cat], ytrain, Xtest[num_cat], ytest)\n",
    "print(\"Scaled Numerics and Categoricals\")\n",
    "showResults(r2, RMSE, yhat, ytest)\n",
    "\n",
    "Xtest_r_num_cat = pd.concat([Xtest_num_r[numerics_strat1].reset_index(drop=True), Xtest[cats_strat1].reset_index(drop=True)],axis=1)\n",
    "Xtrain_r_num_cat = pd.concat([Xtrain_num_r[numerics_strat1].reset_index(drop=True), Xtrain[cats_strat1].reset_index(drop=True)],axis=1)\n",
    "r2, yhat, residuals, SSE, RMSE = linear_reg_model(Xtrain_r_num_cat, ytrain, Xtest_r_num_cat, ytest)\n",
    "print(\"Unscaled Numerics and Categoricals\")\n",
    "showResults(r2, RMSE, yhat, ytest)"
   ]
  },
  {
   "cell_type": "code",
   "execution_count": 40,
   "metadata": {},
   "outputs": [
    {
     "name": "stdout",
     "output_type": "stream",
     "text": [
      "All Variables (Scaled Nums)\n",
      "R2:  0.06038951880162391\n",
      "RMSE:  0.20899683769129956\n",
      "<matplotlib.collections.PathCollection object at 0x7f01eb79f940> \n",
      "\n",
      "All Variables (Unscaled Nums)\n",
      "R2:  0.08602263314128633\n",
      "RMSE:  0.2061263482004684\n",
      "<matplotlib.collections.PathCollection object at 0x7f01eb8bf880> \n",
      "\n"
     ]
    },
    {
     "data": {
      "image/png": "[encoded data removed]",
      "text/plain": [
       "<Figure size 640x480 with 1 Axes>"
      ]
     },
     "metadata": {},
     "output_type": "display_data"
    }
   ],
   "source": [
    "#all vars\n",
    "r2, yhat, residuals, SSE, RMSE = linear_reg_model(Xtrain, ytrain, Xtest, ytest)\n",
    "print(\"All Variables (Scaled Nums)\")\n",
    "showResults(r2, RMSE, yhat, ytest)\n",
    "\n",
    "Xtest_r_all = pd.concat([Xtest_num_r[numerics_strat1].reset_index(drop=True), Xtest[poly_strat1].reset_index(drop=True), Xtest[cats_strat1].reset_index(drop=True)],axis=1)\n",
    "Xtrain_r_all = pd.concat([Xtrain_num_r[numerics_strat1].reset_index(drop=True), Xtrain[poly_strat1].reset_index(drop=True), Xtrain[cats_strat1].reset_index(drop=True)],axis=1)\n",
    "r2, yhat, residuals, SSE, RMSE = linear_reg_model(Xtrain_r_all, ytrain, Xtest_r_all, ytest)\n",
    "print(\"All Variables (Unscaled Nums)\")\n",
    "showResults(r2, RMSE, yhat, ytest)\n",
    "four = \"Linear Regression with All Variables (Unscaled Nums)\"\n",
    "r2_4 = r2\n",
    "RMSE_4 = RMSE"
   ]
  },
  {
   "cell_type": "markdown",
   "metadata": {},
   "source": [
    "When the scaled numerics were used, it got better: Uping the degree to see how that effects the results"
   ]
  },
  {
   "cell_type": "code",
   "execution_count": 41,
   "metadata": {},
   "outputs": [
    {
     "data": {
      "text/plain": [
       "Index(['age', 'hypertension', 'heart_disease', 'avg_glucose_level', 'bmi',\n",
       "       'log_glucose', 'gender_Female', 'gender_Male', 'gender_Other',\n",
       "       'ever_married_No', 'ever_married_Yes', 'work_type_Govt_job',\n",
       "       'work_type_Never_worked', 'work_type_Private',\n",
       "       'work_type_Self-employed', 'work_type_children', 'residence_type_Rural',\n",
       "       'residence_type_Urban', 'smoking_status_Unknown',\n",
       "       'smoking_status_formerly smoked', 'smoking_status_never smoked',\n",
       "       'smoking_status_smokes', 'age^2', 'age hypertension',\n",
       "       'age heart_disease', 'age avg_glucose_level', 'age bmi',\n",
       "       'hypertension^2', 'hypertension heart_disease',\n",
       "       'hypertension avg_glucose_level', 'hypertension bmi', 'heart_disease^2',\n",
       "       'heart_disease avg_glucose_level', 'heart_disease bmi',\n",
       "       'avg_glucose_level^2', 'avg_glucose_level bmi', 'bmi^2'],\n",
       "      dtype='object')"
      ]
     },
     "execution_count": 41,
     "metadata": {},
     "output_type": "execute_result"
    }
   ],
   "source": [
    "#loading the cleaned data from the data cleaning file, Project2EDA.ipynb\n",
    "test_3 = pd.read_csv('./cleaned_data/c_test_deg3.csv')\n",
    "train_3 = pd.read_csv('./cleaned_data/c_train_deg3.csv')\n",
    "\n",
    "# Dropping row number\n",
    "test_3 = test_3.drop(columns=['Unnamed: 0'])\n",
    "train_3 = train_3.drop(columns=['Unnamed: 0'])\n",
    "\n",
    "#seperate into X and y\n",
    "ytest_3 = test_3['stroke']\n",
    "ytrain_3 = train_3['stroke']\n",
    "Xtest_3 = test_3.drop(columns='stroke')\n",
    "Xtrain_3 = train_3.drop(columns='stroke')\n",
    "\n",
    "Xtest_3.columns"
   ]
  },
  {
   "cell_type": "code",
   "execution_count": 42,
   "metadata": {},
   "outputs": [
    {
     "name": "stdout",
     "output_type": "stream",
     "text": [
      "Scaled Numerics and Polynomials - with Degree 3\n",
      "R2:  0.07223098325721444\n",
      "RMSE:  0.207675718211496\n",
      "<matplotlib.collections.PathCollection object at 0x7f01eb7c5570> \n",
      "\n"
     ]
    },
    {
     "data": {
      "image/png": "[encoded data removed]",
      "text/plain": [
       "<Figure size 640x480 with 1 Axes>"
      ]
     },
     "metadata": {},
     "output_type": "display_data"
    }
   ],
   "source": [
    "#nums and poly\n",
    "Xtrain_3_np = Xtrain_3.loc[:,['age', 'hypertension', 'heart_disease', 'avg_glucose_level', 'bmi','age^2', 'age hypertension','age heart_disease', 'age avg_glucose_level', 'age bmi','hypertension^2', 'hypertension heart_disease','hypertension avg_glucose_level', 'hypertension bmi', 'heart_disease^2','heart_disease avg_glucose_level', 'heart_disease bmi','avg_glucose_level^2', 'avg_glucose_level bmi', 'bmi^2'] ]\n",
    "Xtest_3_np = Xtest_3.loc[:,['age', 'hypertension', 'heart_disease', 'avg_glucose_level', 'bmi','age^2', 'age hypertension','age heart_disease', 'age avg_glucose_level', 'age bmi','hypertension^2', 'hypertension heart_disease','hypertension avg_glucose_level', 'hypertension bmi', 'heart_disease^2','heart_disease avg_glucose_level', 'heart_disease bmi','avg_glucose_level^2', 'avg_glucose_level bmi', 'bmi^2'] ]\n",
    "\n",
    "r2, yhat, residuals, SSE, RMSE = linear_reg_model(Xtrain_3_np, ytrain_3, Xtest_3_np, ytest_3)\n",
    "print(\"Scaled Numerics and Polynomials - with Degree 3\")\n",
    "showResults(r2, RMSE, yhat, ytest)"
   ]
  },
  {
   "cell_type": "code",
   "execution_count": 43,
   "metadata": {},
   "outputs": [
    {
     "data": {
      "text/plain": [
       "<matplotlib.collections.PathCollection at 0x7f01eb7c43d0>"
      ]
     },
     "execution_count": 43,
     "metadata": {},
     "output_type": "execute_result"
    },
    {
     "data": {
      "image/png": "[encoded data removed]",
      "text/plain": [
       "<Figure size 640x480 with 1 Axes>"
      ]
     },
     "metadata": {},
     "output_type": "display_data"
    }
   ],
   "source": [
    "plt.scatter(Xtest['age'], ytest)"
   ]
  },
  {
   "cell_type": "markdown",
   "metadata": {},
   "source": [
    "Logit Regression - Strategy 2\n",
    "\n",
    "Used since the target variable is a binary 0/1\n",
    "This can also be used to create a table that gives a probability each case will have a stroke given the training data"
   ]
  },
  {
   "cell_type": "code",
   "execution_count": 44,
   "metadata": {},
   "outputs": [],
   "source": [
    "#set up for Logit Regression\n",
    "#source: https://realpython.com/logistic-regression-python/\n",
    "from sklearn.linear_model import LogisticRegression\n",
    "from sklearn.metrics import classification_report, confusion_matrix\n",
    "from statistics import mean\n",
    "\n",
    "def logit_reg(Xtrain, ytrain, Xtest, ytest):\n",
    "    model = LogisticRegression(solver='liblinear', random_state=2).fit(Xtrain, ytrain)\n",
    "    yhat = model.predict(Xtest)\n",
    "    yprob = model.predict_proba(Xtest)\n",
    "    \n",
    "    #data = [ytest, yhat, yprob[:, 0], yprob[:, 1]]\n",
    "    #df = pd.DataFrame(data, columns=['Result', 'Prediction', 'Probability of 0', 'Probability of 1']) \n",
    "    #df = pd.concat([ytest, yhat, yprob[]], axis=1)\n",
    "    #data = [ytest, yhat]\n",
    "    #df = pd.DataFrame(data, columns=['Result', 'Prediction'])\n",
    "    yt =pd.DataFrame({'Result':ytest})\n",
    "    yh = pd.DataFrame({'Prediction':yhat})\n",
    "    yp =pd.DataFrame(yprob, columns=['Probability of 0', 'Probability of 1'])\n",
    "    df = pd.concat([yt.reset_index(drop=True), yh.reset_index(drop=True), yp.reset_index(drop=True)], axis=1)\n",
    "    \n",
    "    #using probability to calculate a sort-of R2\n",
    "    #calc Sum of Squared Error (SSE)\n",
    "    SSE = np.sum(np.square(ytest - yp['Probability of 1']))\n",
    "    N_test = len(ytest)\n",
    "    \n",
    "    # Total Sum of Squares (TSS)\n",
    "    avg = mean(ytest)\n",
    "    TSS = 0\n",
    "    for i in ytest:\n",
    "        TSS += ((i-avg)**2)\n",
    "    \n",
    "    #r2 = 1 - (SSE/TSS)\n",
    "    r2 = 1 - (SSE/TSS)\n",
    "    \n",
    "\n",
    "    conM_array = confusion_matrix(ytest, model.predict(Xtest))\n",
    "    residuals = ytest - yhat\n",
    "    N_test = len(ytest)\n",
    "    RMSE = (SSE/N_test)**(1/2)\n",
    "    return r2, yhat, residuals, SSE, RMSE, conM_array, df\n",
    "    \n",
    "def showResults_log(r2, RMSE, y_hat, y_test, conM_array):\n",
    "    print(\"R2: \", r2)\n",
    "    print(\"RMSE: \", RMSE)\n",
    "    print(\"Confustion Matrix \", conM_array)\n",
    "    print(plt.scatter(y_hat, y_test), \"\\n\")\n"
   ]
  },
  {
   "cell_type": "code",
   "execution_count": 45,
   "metadata": {},
   "outputs": [
    {
     "name": "stdout",
     "output_type": "stream",
     "text": [
      "Scaled age\n",
      "R2:  0.08785626864336804\n",
      "RMSE:  0.20591947746073525\n",
      "Confustion Matrix  [[973   0]\n",
      " [ 50   0]]\n",
      "<matplotlib.collections.PathCollection object at 0x7f02202485e0> \n",
      "\n",
      "unscaled age\n",
      "R2:  0.09086800700673126\n",
      "RMSE:  0.2055792414083986\n",
      "Confustion Matrix  [[973   0]\n",
      " [ 50   0]]\n",
      "<matplotlib.collections.PathCollection object at 0x7f022022b370> \n",
      "\n"
     ]
    },
    {
     "data": {
      "image/png": "[encoded data removed]",
      "text/plain": [
       "<Figure size 640x480 with 1 Axes>"
      ]
     },
     "metadata": {},
     "output_type": "display_data"
    }
   ],
   "source": [
    "#with age - very likely underfit but interesting\n",
    "\n",
    "print(\"Scaled age\")\n",
    "r2, yhat, res, SSE, RMSE, conM_array, df = logit_reg(Xtrain['age'].values.reshape(-1,1), ytrain, Xtest['age'].values.reshape(-1,1), ytest)\n",
    "showResults_log(r2, RMSE, yhat, ytest, conM_array)\n",
    "five = \"Logistic Regression with Scaled Age\"\n",
    "r2_5 = r2\n",
    "RMSE_5 = RMSE\n",
    "\n",
    "print(\"unscaled age\")\n",
    "r2, yhat, res, SSE, RMSE, conM_array, df = logit_reg(Xtrain_num_r['age'].values.reshape(-1,1), ytrain, Xtest_num_r['age'].values.reshape(-1,1), ytest)\n",
    "showResults_log(r2, RMSE, yhat, ytest, conM_array)\n",
    "six = \"Logistic Regression with Scaled Age\"\n",
    "r2_6 = r2\n",
    "RMSE_6 = RMSE"
   ]
  },
  {
   "cell_type": "code",
   "execution_count": 55,
   "metadata": {},
   "outputs": [
    {
     "name": "stdout",
     "output_type": "stream",
     "text": [
      "Scaled Numerics\n",
      "R2:  0.0870967252481577\n",
      "RMSE:  0.20600519434262732\n",
      "Confustion Matrix  [[973   0]\n",
      " [ 50   0]]\n",
      "<matplotlib.collections.PathCollection object at 0x7f022027b790> \n",
      "\n",
      "Unscaled Numerics\n",
      "R2:  0.09086897397894544\n",
      "RMSE:  0.20557913207913253\n",
      "Confustion Matrix  [[973   0]\n",
      " [ 50   0]]\n",
      "<matplotlib.collections.PathCollection object at 0x7f01eb063970> \n",
      "\n",
      "Scaled Numerics and Polynomials\n",
      "R2:  0.07655322900625461\n",
      "RMSE:  0.20719139863948877\n",
      "Confustion Matrix  [[970   3]\n",
      " [ 48   2]]\n",
      "<matplotlib.collections.PathCollection object at 0x7f02201665f0> \n",
      "\n",
      "Unscaled Numerics and Polynomials\n",
      "R2:  0.05768580151014058\n",
      "RMSE:  0.2092973145722793\n",
      "Confustion Matrix  [[966   7]\n",
      " [ 47   3]]\n",
      "<matplotlib.collections.PathCollection object at 0x7f01eb1cdc60> \n",
      "\n",
      "Categoricals\n",
      "R2:  0.020721300725050518\n",
      "RMSE:  0.21336291819434425\n",
      "Confustion Matrix  [[973   0]\n",
      " [ 50   0]]\n",
      "<matplotlib.collections.PathCollection object at 0x7f01eb028d90> \n",
      "\n"
     ]
    },
    {
     "data": {
      "image/png": "[encoded data removed]",
      "text/plain": [
       "<Figure size 640x480 with 1 Axes>"
      ]
     },
     "metadata": {},
     "output_type": "display_data"
    }
   ],
   "source": [
    "#look at just the selected numerics\n",
    "r2, yhat, res, SSE, RMSE, conM_array, df = logit_reg(Xtrain[numerics_strat1], ytrain, Xtest[numerics_strat1], ytest)\n",
    "print(\"Scaled Numerics\")\n",
    "showResults_log(r2, RMSE, yhat, ytest, conM_array)\n",
    "seven = \"Logistic Regression with Scaled Numerics\"\n",
    "r2_7 = r2\n",
    "RMSE_7 = RMSE\n",
    "\n",
    "r2, yhat, res, SSE, RMSE, conM_array, df = logit_reg(Xtrain_num_r[numerics_strat1], ytrain, Xtest_num_r[numerics_strat1], ytest)\n",
    "print(\"Unscaled Numerics\")\n",
    "showResults_log(r2, RMSE, yhat, ytest, conM_array)\n",
    "eight = \"Logistic Regression with Unscaled Numerics\"\n",
    "r2_8 = r2\n",
    "RMSE_8 = RMSE\n",
    "df_res = df\n",
    "\n",
    "#look at both numerics and poly\n",
    "r2, yhat, res, SSE, RMSE, conM_array, df = logit_reg(Xtrain[num_poly_strat1], ytrain, Xtest[num_poly_strat1], ytest)\n",
    "print(\"Scaled Numerics and Polynomials\")\n",
    "showResults_log(r2, RMSE, yhat, ytest, conM_array)\n",
    "\n",
    "Xtest_r_num_poly = pd.concat([Xtest_num_r[numerics_strat1].reset_index(drop=True), Xtest[poly_strat1].reset_index(drop=True)],axis=1)\n",
    "Xtrain_r_num_poly = pd.concat([Xtrain_num_r[numerics_strat1].reset_index(drop=True), Xtrain[poly_strat1].reset_index(drop=True)],axis=1)\n",
    "r2, yhat, res, SSE, RMSE, conM_array, df = logit_reg(Xtrain_r_num_poly, ytrain, Xtest_r_num_poly, ytest)\n",
    "print(\"Unscaled Numerics and Polynomials\")\n",
    "showResults_log(r2, RMSE, yhat, ytest, conM_array)\n",
    "\n",
    "#look at cats\n",
    "r2, yhat, res, SSE, RMSE, conM_array, df = logit_reg(Xtrain[cats_strat1], ytrain, Xtest[cats_strat1], ytest)\n",
    "print(\"Categoricals\")\n",
    "showResults_log(r2, RMSE, yhat, ytest, conM_array)"
   ]
  },
  {
   "cell_type": "code",
   "execution_count": 47,
   "metadata": {},
   "outputs": [
    {
     "name": "stdout",
     "output_type": "stream",
     "text": [
      "Polynomials\n",
      "R2:  0.07838270511732703\n",
      "RMSE:  0.20698605944136494\n",
      "Confustion Matrix  [[972   1]\n",
      " [ 49   1]]\n",
      "<matplotlib.collections.PathCollection object at 0x7f02200cbe80> \n",
      "\n",
      "Polynomials - Just interaction variables\n",
      "R2:  0.06101186606694575\n",
      "RMSE:  0.2089276121144549\n",
      "Confustion Matrix  [[973   0]\n",
      " [ 49   1]]\n",
      "<matplotlib.collections.PathCollection object at 0x7f02201177c0> \n",
      "\n",
      "Scaled Numerics and Categoricals\n",
      "R2:  0.08730492804308176\n",
      "RMSE:  0.20598170154542209\n",
      "Confustion Matrix  [[973   0]\n",
      " [ 50   0]]\n",
      "<matplotlib.collections.PathCollection object at 0x7f02201178b0> \n",
      "\n",
      "Unscaled Numerics and Categoricals\n",
      "R2:  0.0899820294354865\n",
      "RMSE:  0.20567938871653077\n",
      "Confustion Matrix  [[973   0]\n",
      " [ 50   0]]\n",
      "<matplotlib.collections.PathCollection object at 0x7f0220117640> \n",
      "\n"
     ]
    },
    {
     "data": {
      "image/png": "[encoded data removed]",
      "text/plain": [
       "<Figure size 640x480 with 1 Axes>"
      ]
     },
     "metadata": {},
     "output_type": "display_data"
    }
   ],
   "source": [
    "#Look at poly\n",
    "r2, yhat, res, SSE, RMSE, conM_array, df = logit_reg(Xtrain[poly_strat1], ytrain, Xtest[poly_strat1], ytest)\n",
    "print(\"Polynomials\")\n",
    "showResults_log(r2, RMSE, yhat, ytest, conM_array)\n",
    "\n",
    "#just interaction vars\n",
    "r2, yhat, res, SSE, RMSE, conM_array, df = logit_reg(Xtrain[interactions_strat1], ytrain, Xtest[interactions_strat1], ytest)\n",
    "print(\"Polynomials - Just interaction variables\")\n",
    "showResults_log(r2, RMSE, yhat, ytest, conM_array)\n",
    "\n",
    "#cats and numerics\n",
    "r2, yhat, res, SSE, RMSE, conM_array, df = logit_reg(Xtrain[num_cat], ytrain, Xtest[num_cat], ytest)\n",
    "print(\"Scaled Numerics and Categoricals\")\n",
    "showResults_log(r2, RMSE, yhat, ytest, conM_array)\n",
    "nine = \"Logistic Regression with Scaled Numerics and Categoricals\"\n",
    "r2_9 = r2\n",
    "RMSE_9 = RMSE\n",
    "\n",
    "Xtest_r_num_cat = pd.concat([Xtest_num_r[numerics_strat1].reset_index(drop=True), Xtest[cats_strat1].reset_index(drop=True)],axis=1)\n",
    "Xtrain_r_num_cat = pd.concat([Xtrain_num_r[numerics_strat1].reset_index(drop=True), Xtrain[cats_strat1].reset_index(drop=True)],axis=1)\n",
    "r2, yhat, res, SSE, RMSE, conM_array, df = logit_reg(Xtrain_r_num_cat, ytrain, Xtest_r_num_cat, ytest)\n",
    "print(\"Unscaled Numerics and Categoricals\")\n",
    "showResults_log(r2, RMSE, yhat, ytest, conM_array)\n",
    "ten = \"Logistic Regression with Unscaled Numerics and Categoricals\"\n",
    "r2_10 = r2\n",
    "RMSE_10 = RMSE"
   ]
  },
  {
   "cell_type": "code",
   "execution_count": 53,
   "metadata": {},
   "outputs": [
    {
     "name": "stdout",
     "output_type": "stream",
     "text": [
      "All Variables (Scaled Nums)\n",
      "R2:  0.08172679698384255\n",
      "RMSE:  0.20661019332087274\n",
      "Confustion Matrix  [[973   0]\n",
      " [ 49   1]]\n",
      "<matplotlib.collections.PathCollection object at 0x7f01eafef190> \n",
      "\n",
      "All Variabled (Unscaled Nums)\n",
      "R2:  0.05779064993931016\n",
      "RMSE:  0.20928567031118478\n",
      "Confustion Matrix  [[966   7]\n",
      " [ 47   3]]\n",
      "<matplotlib.collections.PathCollection object at 0x7f01eb1cec50> \n",
      "\n"
     ]
    },
    {
     "data": {
      "image/png": "[encoded data removed]",
      "text/plain": [
       "<Figure size 640x480 with 1 Axes>"
      ]
     },
     "metadata": {},
     "output_type": "display_data"
    }
   ],
   "source": [
    "#all vars\n",
    "r2, yhat, res, SSE, RMSE, conM_array, df = logit_reg(Xtrain, ytrain, Xtest, ytest)\n",
    "print(\"All Variables (Scaled Nums)\")\n",
    "showResults_log(r2, RMSE, yhat, ytest, conM_array)\n",
    "eleven = \"Logistic Regression with All Variables (Scaled Nums)\"\n",
    "r2_11 = r2\n",
    "RMSE_11 = RMSE\n",
    "\n",
    "Xtest_r_all = pd.concat([Xtest_num_r[numerics_strat1].reset_index(drop=True), Xtest[poly_strat1].reset_index(drop=True), Xtest[cats_strat1].reset_index(drop=True)],axis=1)\n",
    "Xtrain_r_all = pd.concat([Xtrain_num_r[numerics_strat1].reset_index(drop=True), Xtrain[poly_strat1].reset_index(drop=True), Xtrain[cats_strat1].reset_index(drop=True)],axis=1)\n",
    "r2, yhat, res, SSE, RMSE, conM_array, df = logit_reg(Xtrain_r_all, ytrain, Xtest_r_all, ytest)\n",
    "print(\"All Variabled (Unscaled Nums)\")\n",
    "showResults_log(r2, RMSE, yhat, ytest, conM_array)\n",
    "tweleve = \"Logistic Regression with All Variables (Scaled Nums)\"\n",
    "r2_12 = r2\n",
    "RMSE_12 = RMSE"
   ]
  },
  {
   "cell_type": "code",
   "execution_count": 49,
   "metadata": {},
   "outputs": [
    {
     "name": "stdout",
     "output_type": "stream",
     "text": [
      "Scaled Numerics and Polynomials - with Degree 3\n",
      "R2:  0.07432414462921999\n",
      "RMSE:  0.2074413149042534\n",
      "Confustion Matrix  [[973   0]\n",
      " [ 50   0]]\n",
      "<matplotlib.collections.PathCollection object at 0x7f0220104e20> \n",
      "\n"
     ]
    },
    {
     "data": {
      "image/png": "[encoded data removed]",
      "text/plain": [
       "<Figure size 640x480 with 1 Axes>"
      ]
     },
     "metadata": {},
     "output_type": "display_data"
    }
   ],
   "source": [
    "#expanded version\n",
    "r2, yhat, res, SSE, RMSE, conM_array, df = logit_reg(Xtrain_3_np, ytrain_3, Xtest_3_np, ytest_3)\n",
    "print(\"Scaled Numerics and Polynomials - with Degree 3\")\n",
    "showResults_log(r2, RMSE, yhat, ytest, conM_array)"
   ]
  },
  {
   "cell_type": "markdown",
   "metadata": {},
   "source": [
    "Results table with any model that was decent"
   ]
  },
  {
   "cell_type": "code",
   "execution_count": 50,
   "metadata": {},
   "outputs": [
    {
     "data": {
      "text/html": [
       "<div>\n",
       "<style scoped>\n",
       "    .dataframe tbody tr th:only-of-type {\n",
       "        vertical-align: middle;\n",
       "    }\n",
       "\n",
       "    .dataframe tbody tr th {\n",
       "        vertical-align: top;\n",
       "    }\n",
       "\n",
       "    .dataframe thead th {\n",
       "        text-align: right;\n",
       "    }\n",
       "</style>\n",
       "<table border=\"1\" class=\"dataframe\">\n",
       "  <thead>\n",
       "    <tr style=\"text-align: right;\">\n",
       "      <th></th>\n",
       "      <th>Test</th>\n",
       "      <th>R^2</th>\n",
       "      <th>RMSE</th>\n",
       "    </tr>\n",
       "  </thead>\n",
       "  <tbody>\n",
       "    <tr>\n",
       "      <th>0</th>\n",
       "      <td>Linear Regression with Scaled Numerics and Pol...</td>\n",
       "      <td>0.087109</td>\n",
       "      <td>0.206004</td>\n",
       "    </tr>\n",
       "    <tr>\n",
       "      <th>1</th>\n",
       "      <td>Linear Regression with Unscaled Numerics and P...</td>\n",
       "      <td>0.087048</td>\n",
       "      <td>0.206011</td>\n",
       "    </tr>\n",
       "    <tr>\n",
       "      <th>2</th>\n",
       "      <td>Linear Regression with Polynomials</td>\n",
       "      <td>0.082406</td>\n",
       "      <td>0.206534</td>\n",
       "    </tr>\n",
       "    <tr>\n",
       "      <th>3</th>\n",
       "      <td>Linear Regression with All Variables (Unscaled...</td>\n",
       "      <td>0.086023</td>\n",
       "      <td>0.206126</td>\n",
       "    </tr>\n",
       "    <tr>\n",
       "      <th>4</th>\n",
       "      <td>Logistic Regression with Scaled Age</td>\n",
       "      <td>0.087856</td>\n",
       "      <td>0.205919</td>\n",
       "    </tr>\n",
       "    <tr>\n",
       "      <th>5</th>\n",
       "      <td>Logistic Regression with Scaled Age</td>\n",
       "      <td>0.090868</td>\n",
       "      <td>0.205579</td>\n",
       "    </tr>\n",
       "    <tr>\n",
       "      <th>6</th>\n",
       "      <td>Logistic Regression with Scaled Numerics</td>\n",
       "      <td>0.087097</td>\n",
       "      <td>0.206005</td>\n",
       "    </tr>\n",
       "    <tr>\n",
       "      <th>7</th>\n",
       "      <td>Logistic Regression with Unscaled Numerics</td>\n",
       "      <td>0.090869</td>\n",
       "      <td>0.205579</td>\n",
       "    </tr>\n",
       "    <tr>\n",
       "      <th>8</th>\n",
       "      <td>Logistic Regression with Scaled Numerics and C...</td>\n",
       "      <td>0.087305</td>\n",
       "      <td>0.205982</td>\n",
       "    </tr>\n",
       "    <tr>\n",
       "      <th>9</th>\n",
       "      <td>Logistic Regression with Unscaled Numerics and...</td>\n",
       "      <td>0.089982</td>\n",
       "      <td>0.205679</td>\n",
       "    </tr>\n",
       "    <tr>\n",
       "      <th>10</th>\n",
       "      <td>Logistic Regression with All Variables (Scaled...</td>\n",
       "      <td>0.081727</td>\n",
       "      <td>0.206610</td>\n",
       "    </tr>\n",
       "    <tr>\n",
       "      <th>11</th>\n",
       "      <td>Logistic Regression with All Variables (Scaled...</td>\n",
       "      <td>0.057791</td>\n",
       "      <td>0.209286</td>\n",
       "    </tr>\n",
       "  </tbody>\n",
       "</table>\n",
       "</div>"
      ],
      "text/plain": [
       "                                                 Test       R^2      RMSE\n",
       "0   Linear Regression with Scaled Numerics and Pol...  0.087109  0.206004\n",
       "1   Linear Regression with Unscaled Numerics and P...  0.087048  0.206011\n",
       "2                  Linear Regression with Polynomials  0.082406  0.206534\n",
       "3   Linear Regression with All Variables (Unscaled...  0.086023  0.206126\n",
       "4                 Logistic Regression with Scaled Age  0.087856  0.205919\n",
       "5                 Logistic Regression with Scaled Age  0.090868  0.205579\n",
       "6            Logistic Regression with Scaled Numerics  0.087097  0.206005\n",
       "7          Logistic Regression with Unscaled Numerics  0.090869  0.205579\n",
       "8   Logistic Regression with Scaled Numerics and C...  0.087305  0.205982\n",
       "9   Logistic Regression with Unscaled Numerics and...  0.089982  0.205679\n",
       "10  Logistic Regression with All Variables (Scaled...  0.081727  0.206610\n",
       "11  Logistic Regression with All Variables (Scaled...  0.057791  0.209286"
      ]
     },
     "execution_count": 50,
     "metadata": {},
     "output_type": "execute_result"
    }
   ],
   "source": [
    "table = {\n",
    "    'Test': [one, two, three, four, five, six, seven, eight, nine, ten, eleven, tweleve],\n",
    "    'R^2': [r2_1, r2_2, r2_3, r2_4, r2_5, r2_6, r2_7, r2_8, r2_9, r2_10, r2_11, r2_12],\n",
    "    'RMSE': [RMSE_1, RMSE_2, RMSE_3, RMSE_4, RMSE_5, RMSE_6, RMSE_7, RMSE_8, RMSE_9, RMSE_10, RMSE_11, RMSE_12],\n",
    "    }\n",
    "\n",
    "df = pd.DataFrame(table)\n",
    "\n",
    "df"
   ]
  },
  {
   "cell_type": "markdown",
   "metadata": {},
   "source": [
    "Based on the results the model with the best fit was done with Logistic Regression and Scaled Numerics\n",
    "\n",
    "It is interesting to see the difference between using scaled vs. unscaled varaibles. In some cases using unscaled variables would make the model fit better, but not all. It is possible using unscaled variables put more emphasis on age, the variable with the most correlation to stroke, and resulted in a (usually) better fitting model. \n",
    "\n",
    "The most interesting result is the probability of having a stroke for each case created in Logisitic Regression. While cases that did have a stroke often did not exceed 50% chance, they did have a higher chance. This proves that the data can be used to predict stroke, as if someone has, for example, above a 20% chance they know they are at extra risk."
   ]
  },
  {
   "cell_type": "code",
   "execution_count": null,
   "metadata": {},
   "outputs": [],
   "source": []
  },
  {
   "cell_type": "code",
   "execution_count": null,
   "metadata": {},
   "outputs": [],
   "source": []
  }
 ],
 "metadata": {
  "kernelspec": {
   "display_name": "PyTorch 2.0.1",
   "language": "python",
   "name": "pytorch-2.0.1"
  },
  "language_info": {
   "codemirror_mode": {
    "name": "ipython",
    "version": 3
   },
   "file_extension": ".py",
   "mimetype": "text/x-python",
   "name": "python",
   "nbconvert_exporter": "python",
   "pygments_lexer": "ipython3",
   "version": "3.10.12"
  }
 },
 "nbformat": 4,
 "nbformat_minor": 4
}
